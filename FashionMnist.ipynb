{
 "cells": [
  {
   "cell_type": "markdown",
   "metadata": {},
   "source": [
    "# Fashion Mnist\n",
    "Fashion MNist es un dataset que contiene imágenes de ropa con fines académicos de aprender a crear un sistema de clasificación."
   ]
  },
  {
   "cell_type": "markdown",
   "metadata": {},
   "source": [
    "## Redes Neuronales Completamente Conectadas\n",
    "Este es el sistema que usaremos para resolver el problema."
   ]
  },
  {
   "cell_type": "code",
   "execution_count": 1,
   "metadata": {},
   "outputs": [],
   "source": [
    "# Importando las librerías\n",
    "from fashion_mnist_master.utils.mnist_reader import load_mnist\n",
    "import numpy as np\n",
    "import matplotlib.pyplot as plt\n",
    "import scipy.optimize as op\n",
    "import itertools"
   ]
  },
  {
   "cell_type": "code",
   "execution_count": 2,
   "metadata": {},
   "outputs": [],
   "source": [
    "## Importando la data\n",
    "X_train, y_train = load_mnist('fashion_mnist_master/data/fashion', kind='train')\n",
    "X_test, y_test = load_mnist('fashion_mnist_master/data/fashion', kind='t10k')"
   ]
  },
  {
   "cell_type": "code",
   "execution_count": 3,
   "metadata": {},
   "outputs": [
    {
     "data": {
      "image/png": "[encoded data removed]",
      "text/plain": [
       "<Figure size 432x288 with 1 Axes>"
      ]
     },
     "metadata": {
      "needs_background": "light"
     },
     "output_type": "display_data"
    }
   ],
   "source": [
    "## Gráficando un elemento \n",
    "X = np.array(X_train[1])\n",
    "X = X.reshape((28, 28))\n",
    "## Poniéndolo en blanco y negro\n",
    "fig, ax = plt.subplots()\n",
    "ax.imshow(X, interpolation='nearest', cmap='gray')\n",
    "plt.show()"
   ]
  },
  {
   "cell_type": "markdown",
   "metadata": {},
   "source": [
    "Tras ver la data por anticipado, se puede notar que existen valores entre 0 y 255 para identificar la intensidad de color de bits en la imagen. Debido a que los números están demasiado grandes. Por éso se procede a aplicarles una reducción a través de la variable _chiquitolina_. "
   ]
  },
  {
   "cell_type": "code",
   "execution_count": 4,
   "metadata": {},
   "outputs": [],
   "source": [
    "#### Transformación de X_train\n",
    "chiquitolina = (1/255) # Para achiquitar los valores\n",
    "X_train = X_train * (chiquitolina)\n",
    "X_train = X_train.astype(np.float32)"
   ]
  },
  {
   "cell_type": "code",
   "execution_count": 5,
   "metadata": {},
   "outputs": [],
   "source": [
    "np.random.seed(0) # Semilla de aleatoriedad constante"
   ]
  },
  {
   "cell_type": "code",
   "execution_count": 6,
   "metadata": {},
   "outputs": [],
   "source": [
    "## X_train tiene la siguiente forma\n",
    "### (observaciones, atributos)\n",
    "### Cada elemento del array es una observación. \n",
    "### Según mi documento oficial juandieguístico tiene la forma n*m\n",
    "L = 4 # Capas desde la X hasta la Y\n",
    "### One-hot enconding para Y\n",
    "y_train_one_hot = np.zeros((y_train.size, y_train.max()+1))\n",
    "y_train_one_hot[np.arange(y_train.size),y_train] = 1"
   ]
  },
  {
   "cell_type": "markdown",
   "metadata": {},
   "source": [
    "### Funciones propias de la Red Neuronal y capas de activación\n",
    "Las funciones que servirán como parámetros para la aplicación de _optimize_."
   ]
  },
  {
   "cell_type": "code",
   "execution_count": 7,
   "metadata": {},
   "outputs": [],
   "source": [
    "## FUNCIONES IMPORTANTES\n",
    "def funcion_sigmoide(x, tetas):\n",
    "    \"\"\"Realiza la función sigmoide\n",
    "        para cualquier parámetro teta\n",
    "    \"\"\"\n",
    "    return np.power((1 + np.exp(-1 * np.dot(x, tetas.T)) ), -1).astype(np.float16)"
   ]
  },
  {
   "cell_type": "code",
   "execution_count": 8,
   "metadata": {},
   "outputs": [],
   "source": [
    "def funcion_costo(tetas, figuras, x, y):\n",
    "    \"\"\"Realiza la función de costo\n",
    "        para cualquier parámetro teta\n",
    "    \"\"\"\n",
    "    tetas = deschatar_thetas(tetas, figuras)\n",
    "    neuronas = forward_propagation(tetas, x) # Multiplicación de tetas\n",
    "    return np.sum(np.multiply(y, np.log( neuronas[L-1] )) + np.multiply((1-y), np.log(1 - neuronas[L-1]))  ) / -len(y)"
   ]
  },
  {
   "cell_type": "code",
   "execution_count": 9,
   "metadata": {},
   "outputs": [],
   "source": [
    "def precision(y_pred, y):\n",
    "    \"\"\"Calcula la precisión del modelo con base\n",
    "        a los valores reales y predichos de Y \n",
    "    \"\"\"\n",
    "    enconding = 0\n",
    "    for i in range(len(y_pred)):\n",
    "        valorMax = max(y_pred[i])\n",
    "        valor = np.where(y_pred[i] == valorMax)\n",
    "        if(valor == y[i]):\n",
    "            enconding += 1 \n",
    "        \n",
    "    return enconding / len(y)"
   ]
  },
  {
   "cell_type": "markdown",
   "metadata": {},
   "source": [
    "### Variables de uso general para la red neuronal\n",
    "Aquí irán las neuronas, tamaño del modelo, constantes multiplicadoras y capa de _bias_."
   ]
  },
  {
   "cell_type": "code",
   "execution_count": 10,
   "metadata": {},
   "outputs": [],
   "source": [
    "thetas = []\n",
    "#### Cada elemento contiene un arreglo de thetas. \n",
    "####      Para el primero son c*m según el documento juandieguístico.\n",
    "#### Después serán 5*5 y el último será 10*6\n",
    "thetas1 = np.random.rand(5, 785) # X a capa1\n",
    "thetas2 = np.random.rand(5, 6) # capa1 a 2\n",
    "thetas3 = np.random.rand(5, 6) # capa2 a 3\n",
    "thetas4 = np.random.rand(10, 6) # capa3 a resultado\n",
    "## agregando thetas\n",
    "thetas.append(thetas1)\n",
    "thetas.append(thetas2)\n",
    "thetas.append(thetas3)\n",
    "thetas.append(thetas4)\n",
    "\n",
    "figuras = [(5, 785), (5, 6), (5, 6), (10, 6)]\n",
    "\n",
    "unos = np.ones((len(X_train), 1)).astype(np.float32) ## agregar columna de unos"
   ]
  },
  {
   "cell_type": "markdown",
   "metadata": {},
   "source": [
    "### Funciones de transformación de thetas para Scipy optimize\n",
    "Los multiplicadores deben de entregarse en un arreglo plano, por lo que hay funciones para aplanarlo y desaplanarlo."
   ]
  },
  {
   "cell_type": "code",
   "execution_count": 11,
   "metadata": {},
   "outputs": [],
   "source": [
    "def achatar_thetas(tetas):\n",
    "    achatadas = np.array([])\n",
    "    for i in tetas:\n",
    "        achatadas = np.append(achatadas, i.flatten())\n",
    "    achatadas.flatten()\n",
    "    return achatadas\n",
    "\n",
    "def deschatar_thetas(tetas, figura):\n",
    "    deschatadas = []\n",
    "    inicio = 0\n",
    "    fin = 0\n",
    "    for i in figura:\n",
    "        fin = inicio + i[1]*i[0]\n",
    "        deschatadas.append(np.array(tetas[inicio:fin]).reshape(i))\n",
    "        inicio = fin\n",
    "    return deschatadas"
   ]
  },
  {
   "cell_type": "markdown",
   "metadata": {},
   "source": [
    "### Funciones NN"
   ]
  },
  {
   "cell_type": "code",
   "execution_count": 23,
   "metadata": {},
   "outputs": [],
   "source": [
    "def forward_propagation(tetas, x):\n",
    "    neuronas = [None] * L\n",
    "    neuronas[0] = x ## agregando la primera capa\n",
    "    for i in range(len(tetas)):\n",
    "        ###### La siguiente neurona\n",
    "        # print(i)\n",
    "        # print(neuronas[i].shape)\n",
    "        # print((np.append(neuronas[i], unos, axis=1)).shape)\n",
    "        # print(neuronas[i])\n",
    "        # capa_mas_bias = np.append(neuronas[i], unos, axis=1) # neurona actual más capa de unos (bias)\n",
    "        neuronas[i + 1] = funcion_sigmoide(\n",
    "            np.append(neuronas[i], unos, axis=1), tetas[i]) # Thetas actuales (ya incluyen la capa bias)\n",
    "    return neuronas"
   ]
  },
  {
   "cell_type": "code",
   "execution_count": 13,
   "metadata": {},
   "outputs": [],
   "source": [
    "def back_propagation(tetas, figuras, x, y):\n",
    "    tetas = deschatar_thetas(tetas, figuras)\n",
    "    # Back propagation\n",
    "    # Forward Propagation (Paso 2.2)\n",
    "    neuronas = forward_propagation(tetas, x)\n",
    "    # Paso 1 y 2.1\n",
    "    Deltas = [i * 0.0 for i in tetas]\n",
    "    deltas = [i * 0.0 for i in neuronas]\n",
    "    deltas[L - 1] = neuronas[L - 1] - y # Paso 2.3 del documento de Samuel Chávez\n",
    "    for l in reversed(range(0, L - 1)):\n",
    "        # Paso 2.4\n",
    "        deltas[l] = np.multiply(\n",
    "                np.dot(tetas[l].T[:-1], deltas[l + 1].T).T,\n",
    "                np.multiply(\n",
    "                    neuronas[l],\n",
    "                    (1 - neuronas[l])\n",
    "                    ))\n",
    "        \n",
    "        # Paso 2.5\n",
    "        Deltas[l] = Deltas[l] + np.dot(deltas[l + 1].T,\n",
    "                                       np.append(neuronas[l],\n",
    "                                                 unos, axis=1))\n",
    "        # Paso 3\n",
    "        Deltas[l] = Deltas[l] * (1/len(x))\n",
    "    return achatar_thetas(Deltas)"
   ]
  },
  {
   "cell_type": "markdown",
   "metadata": {},
   "source": [
    "## Implementación con Optimize"
   ]
  },
  {
   "cell_type": "code",
   "execution_count": 14,
   "metadata": {},
   "outputs": [
    {
     "name": "stdout",
     "output_type": "stream",
     "text": [
      "[0.5488135  0.71518937 0.60276338 ... 0.60652939 0.69763688 0.66485748] (4075,)\n",
      "Costo actual: (antes de optimizar) 25.972441101074217\n"
     ]
    }
   ],
   "source": [
    "thetas = achatar_thetas(thetas)\n",
    "print(thetas, thetas.shape)\n",
    "costo = funcion_costo(thetas, figuras, X_train, y_train_one_hot)\n",
    "print(\"Costo actual: (antes de optimizar)\", costo)\n",
    "# Le quité la creación de neuronas, por éso está comentado\n",
    "# print(\"Precisión antes de optimizar: \", precision(neuronas[L - 1], y_train))"
   ]
  },
  {
   "cell_type": "code",
   "execution_count": 15,
   "metadata": {},
   "outputs": [
    {
     "data": {
      "text/plain": [
       "      fun: 3.2507568359375\n",
       " hess_inv: <4075x4075 LbfgsInvHessProduct with dtype=float64>\n",
       "      jac: array([0.        , 0.        , 0.        , ..., 0.00174104, 0.00209646,\n",
       "       0.00217285])\n",
       "  message: b'CONVERGENCE: REL_REDUCTION_OF_F_<=_FACTR*EPSMCH'\n",
       "     nfev: 26\n",
       "      nit: 5\n",
       "   status: 0\n",
       "  success: True\n",
       "        x: array([ 0.5488135 ,  0.71518937,  0.60276338, ..., -0.33199175,\n",
       "       -0.4993404 , -0.57803143])"
      ]
     },
     "execution_count": 15,
     "metadata": {},
     "output_type": "execute_result"
    }
   ],
   "source": [
    "res = op.minimize(\n",
    "    fun=funcion_costo,\n",
    "    x0=thetas,\n",
    "    args=(figuras, X_train, y_train_one_hot),\n",
    "    method='L-BFGS-B',\n",
    "    jac=back_propagation,\n",
    "    options={'disp': True, 'maxiter': 1300})\n",
    "res"
   ]
  },
  {
   "cell_type": "code",
   "execution_count": 16,
   "metadata": {},
   "outputs": [
    {
     "name": "stdout",
     "output_type": "stream",
     "text": [
      "[ 0.5488135   0.71518937  0.60276338 ... -0.33199175 -0.4993404\n",
      " -0.57803143]\n",
      "3.2507568359375\n",
      "0.1\n"
     ]
    }
   ],
   "source": [
    "thetas = res.x\n",
    "print(thetas)\n",
    "costo = funcion_costo(thetas, figuras, X_train, y_train_one_hot)\n",
    "# Necesita las Thetas deschatadas\n",
    "thetas = deschatar_thetas(thetas, figuras)\n",
    "neuronas = forward_propagation(thetas, X_train)\n",
    "print(costo)\n",
    "print(precision(neuronas[L - 1], y_train))"
   ]
  },
  {
   "cell_type": "markdown",
   "metadata": {},
   "source": [
    "## Justificación de mi estructura de NN\n",
    "### ¿Por qué 5 capas ocultas y 5 neuronas?\n",
    "En clase estuvimos discutiendo acerca del _Vanishing Gradient Problem_ , y que este se da al superar el número aproximado de 5. Es decir que con el modelo actual de la función Sigmoide tener más de 5 neuronas y 5 capas ocultas haría gradientes muy pequeños, que casi tienden a 0. \n",
    "\n",
    "Al ver los beneficios con pocas capas y con varias, 5 capas y 5 neuronas dieron un excelente resultado.\n",
    "\n",
    "### Resultados en el training set"
   ]
  },
  {
   "cell_type": "code",
   "execution_count": 24,
   "metadata": {},
   "outputs": [
    {
     "name": "stdout",
     "output_type": "stream",
     "text": [
      "0.1 de precisión (sobre 100%) alcanzado en el testing set\n"
     ]
    }
   ],
   "source": [
    "unos = np.ones((len(X_test), 1)).astype(np.float32) ## agregar columna de unos\n",
    "neuronas = forward_propagation(thetas, X_test)\n",
    "print(\"{} de precisión (sobre 100%) alcanzado en el testing set\".format(precision(neuronas[L - 1], y_test)))"
   ]
  },
  {
   "cell_type": "code",
   "execution_count": null,
   "metadata": {},
   "outputs": [],
   "source": []
  }
 ],
 "metadata": {
  "kernelspec": {
   "display_name": "Python 3",
   "language": "python",
   "name": "python3"
  },
  "language_info": {
   "codemirror_mode": {
    "name": "ipython",
    "version": 3
   },
   "file_extension": ".py",
   "mimetype": "text/x-python",
   "name": "python",
   "nbconvert_exporter": "python",
   "pygments_lexer": "ipython3",
   "version": "3.7.0"
  }
 },
 "nbformat": 4,
 "nbformat_minor": 4
}
