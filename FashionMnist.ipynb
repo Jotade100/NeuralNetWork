{
 "cells": [
  {
   "cell_type": "markdown",
   "metadata": {},
   "source": [
    "# Fashion Mnist\n",
    "Fashion MNist es un dataset que contiene imágenes de ropa con fines académicos de aprender a crear un sistema de clasificación."
   ]
  },
  {
   "cell_type": "markdown",
   "metadata": {},
   "source": [
    "## Redes Neuronales Completamente Conectadas\n",
    "Este es el sistema que usaremos para resolver el problema."
   ]
  },
  {
   "cell_type": "code",
   "execution_count": null,
   "metadata": {},
   "outputs": [],
   "source": [
    "# Importando las librerías\n",
    "from fashion_mnist_master.utils.mnist_reader import load_mnist\n",
    "import numpy as np\n",
    "import matplotlib.pyplot as plt\n",
    "import scipy.optimize as op\n",
    "import itertools"
   ]
  },
  {
   "cell_type": "code",
   "execution_count": null,
   "metadata": {},
   "outputs": [],
   "source": [
    "## Importando la data\n",
    "X_train, y_train = load_mnist('fashion_mnist_master/data/fashion', kind='train')\n",
    "X_test, y_test = load_mnist('fashion_mnist_master/data/fashion', kind='t10k')"
   ]
  },
  {
   "cell_type": "markdown",
   "metadata": {},
   "source": [
    "Tras ver la data por anticipado, se puede notar que existen valores entre 0 y 255 para identificar la intensidad de color de bits en la imagen. Debido a que los números están demasiado grandes. Por éso se procede a aplicarles una reducción a través de la variable _chiquitolina_. "
   ]
  },
  {
   "cell_type": "code",
   "execution_count": null,
   "metadata": {},
   "outputs": [],
   "source": [
    "#### Transformación de X_train\n",
    "chiquitolina = (1/255) # Para achiquitar los valores\n",
    "X_train = X_train * (chiquitolina)\n",
    "X_train = X_train.astype(np.float16)"
   ]
  },
  {
   "cell_type": "code",
   "execution_count": null,
   "metadata": {},
   "outputs": [],
   "source": [
    "np.random.seed(0) # Semilla de aleatoriedad constante"
   ]
  },
  {
   "cell_type": "code",
   "execution_count": null,
   "metadata": {},
   "outputs": [],
   "source": [
    "## X_train tiene la siguiente forma\n",
    "### (observaciones, atributos)\n",
    "### Cada elemento del array es una observación. \n",
    "### Según mi documento oficial juandieguístico tiene la forma n*m\n",
    "L = 6 # Capas desde la X hasta la Y\n",
    "### One-hot enconding para Y\n",
    "y_train_one_hot = np.zeros((y_train.size, y_train.max()+1))\n",
    "y_train_one_hot[np.arange(y_train.size),y_train] = 1"
   ]
  },
  {
   "cell_type": "markdown",
   "metadata": {},
   "source": [
    "### Funciones propias de la Red Neuronal y capas de activación\n",
    "Las funciones que servirán como parámetros para la aplicación de _optimize_."
   ]
  },
  {
   "cell_type": "code",
   "execution_count": null,
   "metadata": {},
   "outputs": [],
   "source": [
    "## FUNCIONES IMPORTANTES\n",
    "def funcion_sigmoide(x, tetas):\n",
    "    \"\"\"Realiza la función sigmoide\n",
    "        para cualquier parámetro teta\n",
    "    \"\"\"\n",
    "    return np.power((1 + np.exp(-1 * np.dot(x, tetas.T)) ), -1).astype(np.float16)"
   ]
  },
  {
   "cell_type": "code",
   "execution_count": null,
   "metadata": {},
   "outputs": [],
   "source": [
    "def funcion_costo(tetas, figuras, x, y):\n",
    "    \"\"\"Realiza la función de costo\n",
    "        para cualquier parámetro teta\n",
    "    \"\"\"\n",
    "    tetas = deschatar_thetas(tetas, figuras)\n",
    "    neuronas = forward_propagation(tetas, x) # Multiplicación de tetas\n",
    "    return np.sum(np.multiply(y, np.log( neuronas[L-1] )) + np.multiply((1-y), np.log(1 - neuronas[L-1]))  ) / -len(y)"
   ]
  },
  {
   "cell_type": "code",
   "execution_count": null,
   "metadata": {},
   "outputs": [],
   "source": [
    "def precision(y_pred, y):\n",
    "    \"\"\"Calcula la precisión del modelo con base\n",
    "        a los valores reales y predichos de Y \n",
    "    \"\"\"\n",
    "    enconding = 0\n",
    "    for i in range(len(y_pred)):\n",
    "        valorMax = max(y_pred[i])\n",
    "        valor = np.where(y_pred[i] == valorMax)\n",
    "        if(valor == y[i]):\n",
    "            enconding += 1 \n",
    "        \n",
    "    return enconding / len(y)"
   ]
  },
  {
   "cell_type": "markdown",
   "metadata": {},
   "source": [
    "### Variables de uso general para la red neuronal\n",
    "Aquí irán las neuronas, tamaño del modelo, constantes multiplicadoras y capa de _bias_."
   ]
  },
  {
   "cell_type": "code",
   "execution_count": null,
   "metadata": {},
   "outputs": [],
   "source": [
    "thetas = []\n",
    "#### Cada elemento contiene un arreglo de thetas. \n",
    "####      Para el primero son c*m según el documento juandieguístico.\n",
    "#### Después serán 5*5 y el último será 10*6\n",
    "thetas1 = np.random.rand(5, 785).astype(np.float16) # X a capa1\n",
    "thetas2 = np.random.rand(5, 6).astype(np.float16) # capa1 a 2\n",
    "thetas3 = np.random.rand(5, 6).astype(np.float16) # capa2 a 3\n",
    "thetas4 = np.random.rand(5, 6).astype(np.float16) # capa3 a 4\n",
    "thetas5 = np.random.rand(10, 6).astype(np.float16) # capa4 a resultado\n",
    "## agregando thetas\n",
    "thetas.append(thetas1)\n",
    "thetas.append(thetas2)\n",
    "thetas.append(thetas3)\n",
    "thetas.append(thetas4)\n",
    "thetas.append(thetas5)\n",
    "\n",
    "figuras = [(5, 785), (5, 6), (5, 6), (5, 6), (10, 6)]\n",
    "\n",
    "unos = np.ones((len(X_train), 1)).astype(np.float16) ## agregar columna de unos"
   ]
  },
  {
   "cell_type": "markdown",
   "metadata": {},
   "source": [
    "### Funciones de transformación de thetas para Scipy optimize\n",
    "Los multiplicadores deben de entregarse en un arreglo plano, por lo que hay funciones para aplanarlo y desaplanarlo."
   ]
  },
  {
   "cell_type": "code",
   "execution_count": null,
   "metadata": {},
   "outputs": [],
   "source": [
    "def achatar_thetas(tetas):\n",
    "    achatadas = np.array([])\n",
    "    for i in tetas:\n",
    "        achatadas = np.append(achatadas, i.flatten())\n",
    "    achatadas.flatten()\n",
    "    return achatadas\n",
    "\n",
    "def deschatar_thetas(tetas, figura):\n",
    "    deschatadas = []\n",
    "    inicio = 0\n",
    "    fin = 0\n",
    "    for i in figura:\n",
    "        fin = inicio + i[1]*i[0]\n",
    "        deschatadas.append(np.array(tetas[inicio:fin]).reshape(i))\n",
    "        inicio = fin\n",
    "    return deschatadas"
   ]
  },
  {
   "cell_type": "markdown",
   "metadata": {},
   "source": [
    "### Funciones NN"
   ]
  },
  {
   "cell_type": "code",
   "execution_count": null,
   "metadata": {},
   "outputs": [],
   "source": [
    "def forward_propagation(tetas, x):\n",
    "    unos = np.ones((len(x), 1))\n",
    "    neuronas = [None] * L\n",
    "    neuronas[0] = X_train ## agregando la primera capa\n",
    "    for i in range(len(tetas)):\n",
    "        ###### La siguiente neurona\n",
    "        # print(i)\n",
    "        # print(neuronas[i].shape)\n",
    "        # print((np.append(neuronas[i], unos, axis=1)).shape)\n",
    "        # print(neuronas[i])\n",
    "        # capa_mas_bias = np.append(neuronas[i], unos, axis=1) # neurona actual más capa de unos (bias)\n",
    "        neuronas[i + 1] = funcion_sigmoide(\n",
    "            np.append(neuronas[i], unos, axis=1), # neurona actual más capa de unos (bias)\n",
    "            tetas[i]) # Thetas actuales (ya incluyen la capa bias)\n",
    "    return neuronas"
   ]
  },
  {
   "cell_type": "code",
   "execution_count": null,
   "metadata": {},
   "outputs": [],
   "source": [
    "def back_propagation(tetas, figuras, x, y):\n",
    "    tetas = deschatar_thetas(tetas, figuras)\n",
    "    # Back propagation\n",
    "    # Forward Propagation (Paso 2.2)\n",
    "    neuronas = forward_propagation(tetas, x)\n",
    "    # Paso 1 y 2.1\n",
    "    Deltas = [i * 0.0 for i in tetas]\n",
    "    deltas = [i * 0.0 for i in neuronas]\n",
    "    deltas[L - 1] = neuronas[L - 1] - y # Paso 2.3 del documento de Samuel Chávez\n",
    "    for l in reversed(range(0, L - 2)):\n",
    "        # Paso 2.4\n",
    "        deltas[l] = np.multiply(\n",
    "                np.dot(tetas[l].T[:-1], deltas[l + 1].T).T,\n",
    "                np.multiply(\n",
    "                    neuronas[l],\n",
    "                    (1 - neuronas[l])\n",
    "                    ))\n",
    "        # Paso 2.5\n",
    "        Deltas[l] = Deltas[l] + np.dot(deltas[l + 1].T,\n",
    "                                       np.append(neuronas[l],\n",
    "                                                 unos, axis=1))\n",
    "        # Paso 3\n",
    "        Deltas[l] = Deltas[l] * (1/len(x))\n",
    "    tetas = achatar_thetas(tetas)\n",
    "    return achatar_thetas(Deltas)"
   ]
  },
  {
   "cell_type": "markdown",
   "metadata": {},
   "source": [
    "## Implementación con Optimize"
   ]
  },
  {
   "cell_type": "code",
   "execution_count": null,
   "metadata": {},
   "outputs": [],
   "source": [
    "thetas = achatar_thetas(thetas)\n",
    "costo = funcion_costo(thetas, figuras, X_train, y_train_one_hot)\n",
    "print(\"Costo actual: (antes de optimizar)\", costo)\n",
    "# print(\"Precisión antes de optimizar: \", precision(neuronas[L - 1], y_train))"
   ]
  },
  {
   "cell_type": "code",
   "execution_count": null,
   "metadata": {},
   "outputs": [],
   "source": [
    "res = op.minimize(\n",
    "    fun=funcion_costo,\n",
    "    x0=thetas,\n",
    "    args=(figuras, X_train, y_train_one_hot),\n",
    "    method='L-BFGS-B',\n",
    "    jac=back_propagation,\n",
    "    options={'disp': True, 'maxiter': 1300})"
   ]
  },
  {
   "cell_type": "code",
   "execution_count": null,
   "metadata": {},
   "outputs": [],
   "source": [
    "thetas = res.x\n",
    "costo = funcion_costo(thetas, figuras, neuronas, X_train, y_train_one_hot)\n",
    "neuronas = forward_propagation(thetas, X_train)\n",
    "print(costo)\n",
    "print(precision(neuronas[L - 1], y_train))"
   ]
  },
  {
   "cell_type": "code",
   "execution_count": null,
   "metadata": {},
   "outputs": [],
   "source": []
  }
 ],
 "metadata": {
  "kernelspec": {
   "display_name": "Python 3",
   "language": "python",
   "name": "python3"
  },
  "language_info": {
   "codemirror_mode": {
    "name": "ipython",
    "version": 3
   },
   "file_extension": ".py",
   "mimetype": "text/x-python",
   "name": "python",
   "nbconvert_exporter": "python",
   "pygments_lexer": "ipython3",
   "version": "3.7.0"
  }
 },
 "nbformat": 4,
 "nbformat_minor": 4
}
